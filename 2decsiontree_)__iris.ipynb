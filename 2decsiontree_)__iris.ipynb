{
  "nbformat": 4,
  "nbformat_minor": 0,
  "metadata": {
    "colab": {
      "provenance": [],
      "authorship_tag": "ABX9TyMz9+qJTv+snGHSL98QvGK5",
      "include_colab_link": true
    },
    "kernelspec": {
      "name": "python3",
      "display_name": "Python 3"
    },
    "language_info": {
      "name": "python"
    }
  },
  "cells": [
    {
      "cell_type": "markdown",
      "metadata": {
        "id": "view-in-github",
        "colab_type": "text"
      },
      "source": [
        "<a href=\"https://colab.research.google.com/github/amargauge26/dataseinceeureka/blob/main/2decsiontree_)__iris.ipynb\" target=\"_parent\"><img src=\"https://colab.research.google.com/assets/colab-badge.svg\" alt=\"Open In Colab\"/></a>"
      ]
    },
    {
      "cell_type": "code",
      "execution_count": 1,
      "metadata": {
        "id": "7m1C0A2v10VJ",
        "outputId": "7f6e949e-38ad-4674-c6c5-a7ad6224688c",
        "colab": {
          "base_uri": "https://localhost:8080/"
        }
      },
      "outputs": [
        {
          "output_type": "stream",
          "name": "stdout",
          "text": [
            "Accuracy: 100.00%\n"
          ]
        }
      ],
      "source": [
        "# Step 1: Import the necessary libraries\n",
        "from sklearn.datasets import load_iris  # Load the iris dataset\n",
        "from sklearn.tree import DecisionTreeClassifier  # Decision Tree model\n",
        "from sklearn.model_selection import train_test_split  # Split data into train/test\n",
        "from sklearn.metrics import accuracy_score  # Evaluate accuracy\n",
        "\n",
        "# Step 2: Load the dataset\n",
        "iris = load_iris()  # Load the Iris dataset from sklearn\n",
        "X = iris.data  # Features: sepal length, sepal width, petal length, petal width\n",
        "y = iris.target  # Target: Species (Setosa, Versicolor, Virginica)\n",
        "\n",
        "# Step 3: Split the dataset into training and test sets (80% train, 20% test)\n",
        "X_train, X_test, y_train, y_test = train_test_split(X, y, test_size=0.2, random_state=42)\n",
        "\n",
        "# Step 4: Initialize the Decision Tree Classifier and train it\n",
        "clf = DecisionTreeClassifier()  # Initialize the model\n",
        "clf.fit(X_train, y_train)  # Fit (train) the model using the training data\n",
        "\n",
        "# Step 5: Make predictions on the test data\n",
        "y_pred = clf.predict(X_test)\n",
        "\n",
        "# Step 6: Evaluate the model\n",
        "accuracy = accuracy_score(y_test, y_pred)  # Compare predicted vs actual\n",
        "print(f\"Accuracy: {accuracy * 100:.2f}%\")  # Print the accuracy of the model\n"
      ]
    }
  ]
}