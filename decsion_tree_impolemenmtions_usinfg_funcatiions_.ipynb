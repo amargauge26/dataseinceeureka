{
  "nbformat": 4,
  "nbformat_minor": 0,
  "metadata": {
    "colab": {
      "provenance": [],
      "authorship_tag": "ABX9TyPsBz9laY2CUEJyzEqNgtl2",
      "include_colab_link": true
    },
    "kernelspec": {
      "name": "python3",
      "display_name": "Python 3"
    },
    "language_info": {
      "name": "python"
    }
  },
  "cells": [
    {
      "cell_type": "markdown",
      "metadata": {
        "id": "view-in-github",
        "colab_type": "text"
      },
      "source": [
        "<a href=\"https://colab.research.google.com/github/amargauge26/dataseinceeureka/blob/main/decsion_tree_impolemenmtions_usinfg_funcatiions_.ipynb\" target=\"_parent\"><img src=\"https://colab.research.google.com/assets/colab-badge.svg\" alt=\"Open In Colab\"/></a>"
      ]
    },
    {
      "cell_type": "code",
      "execution_count": 2,
      "metadata": {
        "id": "Mr8ZYwLqwJ3z"
      },
      "outputs": [],
      "source": [
        "train_d = [[\"'Green\",3,\"mango\"],[\"yellow\",3,'mango'],['red',1,'grape'],['red',1,'grape'],['yellow',3,'lemon']]\n"
      ]
    },
    {
      "cell_type": "code",
      "source": [
        "header =[\"color\",'dia','label']"
      ],
      "metadata": {
        "id": "lPhR7ibQw633"
      },
      "execution_count": 3,
      "outputs": []
    },
    {
      "cell_type": "code",
      "source": [
        "def u_val(row,col):\n",
        "  return set([row[col] for row in row])\n",
        "\n",
        "\n",
        "\n",
        "\n",
        "def class_count(rows):\n",
        "  count={}\n",
        "  for row in rows:\n",
        "    label = row[-1]\n",
        "    if label not in count:\n",
        "      count[label]=0\n",
        "    count[label]+=1\n",
        "\n",
        "  return count\n"
      ],
      "metadata": {
        "id": "OLGBffINxHf-"
      },
      "execution_count": 7,
      "outputs": []
    },
    {
      "cell_type": "code",
      "source": [
        "def is_num(val):\n",
        "  return isinstance(val,int) or isinstance(val,float)"
      ],
      "metadata": {
        "id": "yk4_HmUOxdjF"
      },
      "execution_count": 8,
      "outputs": []
    },
    {
      "cell_type": "code",
      "source": [
        "class Ques:\n",
        "\n",
        "  def __init__(self,col,val):\n",
        "    self.col=col\n",
        "    self.val=val\n",
        "\n",
        "\n",
        "  def match(self,example):\n",
        "    val = example[self.col]\n",
        "    if is_num(val):\n",
        "      return val>=self.col\n",
        "    else:\n",
        "      return val==self.val\n",
        "\n",
        "  def __repr__(self):\n",
        "    condition ='=='\n",
        "    if is_num(self.val):\n",
        "      condition=\">=\"\n",
        "    return \"is %s %s %s?\" %(\n",
        "        header[self.col],condition,str(self.val\n",
        "        )\n",
        "    )"
      ],
      "metadata": {
        "id": "_CPUQB1JyJCU"
      },
      "execution_count": 9,
      "outputs": []
    },
    {
      "cell_type": "code",
      "source": [
        "def part(rows,ques):\n",
        "  true_row , false_row =[],[]\n",
        "  for row in rows:\n",
        "    if Ques.matchatch(row):\n",
        "      true_row.append(row)\n",
        "    else:\n",
        "      false_row.append(row)\n",
        "\n",
        "\n",
        "  return true_row,false_row"
      ],
      "metadata": {
        "id": "jDMi6SWtzexo"
      },
      "execution_count": 11,
      "outputs": []
    },
    {
      "cell_type": "code",
      "source": [
        "def gini(rows):\n",
        "  counts = class_count(rows)\n",
        "  imp = 1\n",
        "  for lbl in counts:\n",
        "    proboflbl = counts[lbl]/float(len(rows))\n",
        "    imp-= proboflbl**2\n",
        "\n",
        "\n",
        "  return imp"
      ],
      "metadata": {
        "id": "TRYQRTFf0HZv"
      },
      "execution_count": 12,
      "outputs": []
    },
    {
      "cell_type": "code",
      "source": [],
      "metadata": {
        "id": "XiKX_4E40qIl"
      },
      "execution_count": null,
      "outputs": []
    }
  ]
}